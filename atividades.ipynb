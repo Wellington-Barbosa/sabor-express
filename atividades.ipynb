{
 "cells": [
  {
   "cell_type": "code",
   "execution_count": 1,
   "metadata": {
    "ExecuteTime": {
     "end_time": "2024-01-13T21:57:00.510985900Z",
     "start_time": "2024-01-13T21:56:54.398749Z"
    }
   },
   "outputs": [
    {
     "name": "stdout",
     "output_type": "stream",
     "text": [
      "O número 10 é par!\n"
     ]
    }
   ],
   "source": [
    "valor = int(input(\"Informe um número inteiro: \"))\n",
    "\n",
    "if (valor % 2 == 0):\n",
    "    print(f\"O número {valor} é par!\")\n",
    "elif (valor % 2 != 0):\n",
    "    print(f\"O número {valor} é impar!\")\n",
    "else:\n",
    "    print(\"Você não inseriu um valor válido. Tente novamente!\")"
   ]
  },
  {
   "cell_type": "code",
   "execution_count": 3,
   "metadata": {
    "ExecuteTime": {
     "end_time": "2024-01-13T21:57:49.572644500Z",
     "start_time": "2024-01-13T21:57:46.893172700Z"
    }
   },
   "outputs": [
    {
     "name": "stdout",
     "output_type": "stream",
     "text": [
      "Criança!\n"
     ]
    }
   ],
   "source": [
    "idade = int(input(\"Informe sua idade: \"))\n",
    "\n",
    "if (idade <= 12):\n",
    "    print(\"Criança!\")\n",
    "elif (12 < idade <= 18):\n",
    "    print(\"Adolescente!\")\n",
    "else:\n",
    "    print(\"Adulto!\")"
   ]
  },
  {
   "cell_type": "code",
   "execution_count": null,
   "metadata": {},
   "outputs": [],
   "source": []
  }
 ],
 "metadata": {
  "kernelspec": {
   "display_name": "Python 3",
   "language": "python",
   "name": "python3"
  },
  "language_info": {
   "codemirror_mode": {
    "name": "ipython",
    "version": 3
   },
   "file_extension": ".py",
   "mimetype": "text/x-python",
   "name": "python",
   "nbconvert_exporter": "python",
   "pygments_lexer": "ipython3",
   "version": "3.11.7"
  }
 },
 "nbformat": 4,
 "nbformat_minor": 2
}
