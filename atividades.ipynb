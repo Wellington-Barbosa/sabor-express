{
 "cells": [
  {
   "cell_type": "code",
   "execution_count": 5,
   "metadata": {},
   "outputs": [
    {
     "name": "stdout",
     "output_type": "stream",
     "text": [
      "O número 69821478 é par!\n"
     ]
    }
   ],
   "source": [
    "valor = int(input(\"Informe um número inteiro: \"))\n",
    "\n",
    "if (valor % 2 == 0):\n",
    "    print(f\"O número {valor} é par!\")\n",
    "elif (valor % 2 != 0):\n",
    "    print(f\"O número {valor} é impar!\")\n",
    "else:\n",
    "    print(\"Você não inseriu um valor válido. Tente novamente!\")"
   ]
  },
  {
   "cell_type": "code",
   "execution_count": null,
   "metadata": {},
   "outputs": [],
   "source": [
    "idade = int(input(\"Informe sua idade: \"))\n",
    "\n",
    "if (idade <= 12):\n",
    "    print(\"Criança!\")\n",
    "elif (12 < idade <= 18):\n",
    "    print(\"Adolescente\")"
   ]
  },
  {
   "cell_type": "code",
   "execution_count": null,
   "metadata": {},
   "outputs": [],
   "source": []
  }
 ],
 "metadata": {
  "kernelspec": {
   "display_name": "Python 3",
   "language": "python",
   "name": "python3"
  },
  "language_info": {
   "codemirror_mode": {
    "name": "ipython",
    "version": 3
   },
   "file_extension": ".py",
   "mimetype": "text/x-python",
   "name": "python",
   "nbconvert_exporter": "python",
   "pygments_lexer": "ipython3",
   "version": "3.11.4"
  }
 },
 "nbformat": 4,
 "nbformat_minor": 2
}
